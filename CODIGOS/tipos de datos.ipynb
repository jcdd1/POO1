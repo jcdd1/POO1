import pandas as pd

def factorial(n):
    if n == 0:
        return 1
    else:
        return n * factorial(n - 1)

# Example usage
number = [0,1,2,'',True,[4,3,2,1]]
#print(f"The factorial of {number} is {factorial(number)}")
print(type(number[4]))
